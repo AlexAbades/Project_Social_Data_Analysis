{
 "cells": [
  {
   "cell_type": "markdown",
   "metadata": {},
   "source": [
    "<h1><center>Assigment 1</center><h1>\n"
   ]
  },
  {
   "cell_type": "code",
   "execution_count": null,
   "metadata": {},
   "outputs": [],
   "source": []
  },
  {
   "cell_type": "markdown",
   "metadata": {},
   "source": [
    "## A1 Part 1: Visualizing patterns in the data\n"
   ]
  },
  {
   "cell_type": "code",
   "execution_count": null,
   "metadata": {},
   "outputs": [],
   "source": []
  },
  {
   "cell_type": "markdown",
   "metadata": {},
   "source": [
    "## A1 Part 2: Dataviz questions"
   ]
  },
  {
   "cell_type": "markdown",
   "metadata": {},
   "source": [
    "### 2.1: Mention 10 examples of ways we can encode data."
   ]
  },
  {
   "cell_type": "markdown",
   "metadata": {},
   "source": [
    "- Position\n",
    "- Length \n",
    "- Area \n",
    "- Shape \n",
    "- Color \n",
    "- Angle \n",
    "- Line weight \n",
    "- Line ending \n",
    "- Texture \n",
    "- Pattern "
   ]
  },
  {
   "cell_type": "markdown",
   "metadata": {},
   "source": [
    "### 2.2: Are all encodings created equally? Why not? Can you think of an example from the previous lectures?\n"
   ]
  },
  {
   "cell_type": "markdown",
   "metadata": {},
   "source": [
    "Not all encodings are created equally. Some encodings are good at reavling some aspects while others are good at reavilng others. An example cxould be the one that is shown in the Lecture 4 in Part 1. Where we can see an encoding of 5 elements: A, B, C, D & E in a pie chart. While that won't give any intuitive or easily understanding of the amount of each variable, if we transform that angle encoding (piechart) into a lenth encoding (bar chart) we can clearly distinguish the amounts of each variable. Another encoding, it´s a network encoding, which will give us a really good understanding about realtion between elements. "
   ]
  },
  {
   "cell_type": "markdown",
   "metadata": {},
   "source": [
    "### 2.3 Mention 3 encodings that are difficult for the human eye to parse. Can you find an example of a visualization online that uses one of those three?"
   ]
  },
  {
   "cell_type": "markdown",
   "metadata": {},
   "source": [
    "Here are three different encondings that may be difficult to the human eye to parse: <br>\n",
    "#### -**Area** <br>\n",
    "If we usea area as an encoder it will be hard to see the diferences, because some tinny changes in area that might be significant to the result might not be significant to the eye. The following video perfectly shows how tinny changes in area are not percieved by human eye. \n",
    "\n",
    "[![IMAGE ALT TEXT HERE](https://i.dailymail.co.uk/i/pix/2016/05/04/17/33D63B4200000578-0-image-a-106_1462379588842.jpg)](https://www.youtube.com/shorts/6aDB9VLnyZQ)\n",
    "\n",
    "#### -**Angle**<br> \n",
    "Pie charts use the anlge of the slices of the pie to quantify the amount of value that has changed. It is not a good aprroach as differences in the angles are difficult to see. \n",
    "<img src=\"https://i.insider.com/51bf13026bb3f7257a000030?width=600&format=jpeg&auto=webp\" alt=\"drawing\" width=\"600\"/>\n",
    "\n",
    "#### -Saturation<br> \n",
    "This is because our eyes have difficulty distinguishing subtle differences in color saturation, especially if the colors are very similar. "
   ]
  },
  {
   "cell_type": "markdown",
   "metadata": {},
   "source": [
    "### 2.4 Explain in your own words: What is the problem with pie-charts?"
   ]
  },
  {
   "cell_type": "markdown",
   "metadata": {},
   "source": [
    "Pie charts are no quite siutable for many encodings. The main problem is that even if we have a few values to represent it can be very dfficult to see the differences between them. Even if we had only to variables to plot A and B with values 49 and 51 respectively, it would be difiicult to see at first glance that value B is higher than A. Additionally, it's one of the most common charts used in business and television.\n",
    "\n",
    "<img src=\"https://flowingdata.com/wp-content/uploads/2009/11/Fox-News-pie-chart-620x465.png\" alt=\"drawing\" width=\"400\"/>"
   ]
  },
  {
   "cell_type": "markdown",
   "metadata": {},
   "source": [
    "## A1 Part 3: Visualizing geodata using Plotly"
   ]
  },
  {
   "cell_type": "code",
   "execution_count": null,
   "metadata": {},
   "outputs": [],
   "source": []
  },
  {
   "cell_type": "markdown",
   "metadata": {},
   "source": [
    "## A1 Part 4: Errors in the data"
   ]
  },
  {
   "cell_type": "code",
   "execution_count": null,
   "metadata": {},
   "outputs": [],
   "source": []
  }
 ],
 "metadata": {
  "interpreter": {
   "hash": "b3ba2566441a7c06988d0923437866b63cedc61552a5af99d1f4fb67d367b25f"
  },
  "kernelspec": {
   "display_name": "Python 3.7.4 64-bit ('base': conda)",
   "language": "python",
   "name": "python3"
  },
  "language_info": {
   "name": "python",
   "version": "3.7.4"
  },
  "orig_nbformat": 4
 },
 "nbformat": 4,
 "nbformat_minor": 2
}
